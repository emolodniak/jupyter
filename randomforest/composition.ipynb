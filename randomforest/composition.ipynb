{
 "cells": [
  {
   "attachments": {},
   "cell_type": "markdown",
   "metadata": {},
   "source": [
    "### Publicis Media: Composition predictors"
   ]
  },
  {
   "attachments": {},
   "cell_type": "markdown",
   "metadata": {},
   "source": [
    "##### Data"
   ]
  },
  {
   "cell_type": "code",
   "execution_count": 17,
   "metadata": {},
   "outputs": [
    {
     "data": {
      "text/html": [
       "<div>\n",
       "<style scoped>\n",
       "    .dataframe tbody tr th:only-of-type {\n",
       "        vertical-align: middle;\n",
       "    }\n",
       "\n",
       "    .dataframe tbody tr th {\n",
       "        vertical-align: top;\n",
       "    }\n",
       "\n",
       "    .dataframe thead th {\n",
       "        text-align: right;\n",
       "    }\n",
       "</style>\n",
       "<table border=\"1\" class=\"dataframe\">\n",
       "  <thead>\n",
       "    <tr style=\"text-align: right;\">\n",
       "      <th></th>\n",
       "      <th>TOUCHPOINT</th>\n",
       "      <th>MONTH</th>\n",
       "      <th>SITE</th>\n",
       "      <th>IMPRESSIONS</th>\n",
       "      <th>AGE_MIN</th>\n",
       "      <th>AGE_DIFF</th>\n",
       "      <th>SEX</th>\n",
       "      <th>INCOME</th>\n",
       "      <th>UNWEIGHTED_REACH</th>\n",
       "      <th>COMPOSITION</th>\n",
       "    </tr>\n",
       "  </thead>\n",
       "  <tbody>\n",
       "    <tr>\n",
       "      <th>0</th>\n",
       "      <td>DISPLAY</td>\n",
       "      <td>2018-01-01</td>\n",
       "      <td>VK</td>\n",
       "      <td>10095780</td>\n",
       "      <td>16</td>\n",
       "      <td>28</td>\n",
       "      <td>W</td>\n",
       "      <td>1</td>\n",
       "      <td>435</td>\n",
       "      <td>0.647</td>\n",
       "    </tr>\n",
       "    <tr>\n",
       "      <th>1</th>\n",
       "      <td>DISPLAY</td>\n",
       "      <td>2016-02-01</td>\n",
       "      <td>MAILPOST</td>\n",
       "      <td>124038798</td>\n",
       "      <td>25</td>\n",
       "      <td>30</td>\n",
       "      <td>P</td>\n",
       "      <td>1</td>\n",
       "      <td>3495</td>\n",
       "      <td>0.880</td>\n",
       "    </tr>\n",
       "    <tr>\n",
       "      <th>2</th>\n",
       "      <td>IVIDEO</td>\n",
       "      <td>2016-08-01</td>\n",
       "      <td>IMHO</td>\n",
       "      <td>1549885</td>\n",
       "      <td>20</td>\n",
       "      <td>34</td>\n",
       "      <td>W</td>\n",
       "      <td>1</td>\n",
       "      <td>89</td>\n",
       "      <td>0.597</td>\n",
       "    </tr>\n",
       "    <tr>\n",
       "      <th>3</th>\n",
       "      <td>DISPLAY</td>\n",
       "      <td>2016-03-01</td>\n",
       "      <td>OK</td>\n",
       "      <td>22885630</td>\n",
       "      <td>20</td>\n",
       "      <td>15</td>\n",
       "      <td>W</td>\n",
       "      <td>1</td>\n",
       "      <td>367</td>\n",
       "      <td>0.636</td>\n",
       "    </tr>\n",
       "    <tr>\n",
       "      <th>4</th>\n",
       "      <td>IVIDEO</td>\n",
       "      <td>2016-06-01</td>\n",
       "      <td>GPMD</td>\n",
       "      <td>781124</td>\n",
       "      <td>16</td>\n",
       "      <td>19</td>\n",
       "      <td>W</td>\n",
       "      <td>0</td>\n",
       "      <td>91</td>\n",
       "      <td>0.766</td>\n",
       "    </tr>\n",
       "  </tbody>\n",
       "</table>\n",
       "</div>"
      ],
      "text/plain": [
       "  TOUCHPOINT       MONTH      SITE  IMPRESSIONS  AGE_MIN  AGE_DIFF SEX   \n",
       "0    DISPLAY  2018-01-01        VK     10095780       16        28   W  \\\n",
       "1    DISPLAY  2016-02-01  MAILPOST    124038798       25        30   P   \n",
       "2     IVIDEO  2016-08-01      IMHO      1549885       20        34   W   \n",
       "3    DISPLAY  2016-03-01        OK     22885630       20        15   W   \n",
       "4     IVIDEO  2016-06-01      GPMD       781124       16        19   W   \n",
       "\n",
       "   INCOME  UNWEIGHTED_REACH  COMPOSITION  \n",
       "0       1               435        0.647  \n",
       "1       1              3495        0.880  \n",
       "2       1                89        0.597  \n",
       "3       1               367        0.636  \n",
       "4       0                91        0.766  "
      ]
     },
     "execution_count": 17,
     "metadata": {},
     "output_type": "execute_result"
    }
   ],
   "source": [
    "import pandas as pd\n",
    "df = pd.read_csv('https://raw.githubusercontent.com/emolodniak/jupyter/main/randomforest/displaytest.csv')\n",
    "df.head()"
   ]
  },
  {
   "cell_type": "code",
   "execution_count": 18,
   "metadata": {},
   "outputs": [
    {
     "name": "stdout",
     "output_type": "stream",
     "text": [
      "<class 'pandas.core.frame.DataFrame'>\n",
      "RangeIndex: 1783 entries, 0 to 1782\n",
      "Data columns (total 9 columns):\n",
      " #   Column            Non-Null Count  Dtype  \n",
      "---  ------            --------------  -----  \n",
      " 0   TOUCHPOINT        1783 non-null   object \n",
      " 1   SITE              1783 non-null   object \n",
      " 2   IMPRESSIONS       1783 non-null   int64  \n",
      " 3   AGE_MIN           1783 non-null   int64  \n",
      " 4   AGE_DIFF          1783 non-null   int64  \n",
      " 5   SEX               1783 non-null   object \n",
      " 6   INCOME            1783 non-null   int64  \n",
      " 7   UNWEIGHTED_REACH  1783 non-null   int64  \n",
      " 8   COMPOSITION       1783 non-null   float64\n",
      "dtypes: float64(1), int64(5), object(3)\n",
      "memory usage: 125.5+ KB\n"
     ]
    }
   ],
   "source": [
    "df.drop(columns='MONTH', inplace=True)\n",
    "df.info()"
   ]
  },
  {
   "attachments": {},
   "cell_type": "markdown",
   "metadata": {},
   "source": [
    "##### Data info"
   ]
  },
  {
   "cell_type": "code",
   "execution_count": 21,
   "metadata": {},
   "outputs": [
    {
     "data": {
      "text/html": [
       "<div>\n",
       "<style scoped>\n",
       "    .dataframe tbody tr th:only-of-type {\n",
       "        vertical-align: middle;\n",
       "    }\n",
       "\n",
       "    .dataframe tbody tr th {\n",
       "        vertical-align: top;\n",
       "    }\n",
       "\n",
       "    .dataframe thead th {\n",
       "        text-align: right;\n",
       "    }\n",
       "</style>\n",
       "<table border=\"1\" class=\"dataframe\">\n",
       "  <thead>\n",
       "    <tr style=\"text-align: right;\">\n",
       "      <th></th>\n",
       "      <th>Variable</th>\n",
       "      <th>Value</th>\n",
       "      <th>Format</th>\n",
       "      <th>Comment</th>\n",
       "    </tr>\n",
       "  </thead>\n",
       "  <tbody>\n",
       "    <tr>\n",
       "      <th>0</th>\n",
       "      <td>TOUCHPOINT</td>\n",
       "      <td>DISPLAY/IVIDEO</td>\n",
       "      <td>Text</td>\n",
       "      <td>-</td>\n",
       "    </tr>\n",
       "    <tr>\n",
       "      <th>1</th>\n",
       "      <td>MONTH</td>\n",
       "      <td>Period</td>\n",
       "      <td>Date</td>\n",
       "      <td>dd.mm.yyyy</td>\n",
       "    </tr>\n",
       "    <tr>\n",
       "      <th>2</th>\n",
       "      <td>SITE</td>\n",
       "      <td>Site name</td>\n",
       "      <td>Text</td>\n",
       "      <td>-</td>\n",
       "    </tr>\n",
       "    <tr>\n",
       "      <th>3</th>\n",
       "      <td>IMPRESSIONS</td>\n",
       "      <td>Impressions</td>\n",
       "      <td>Number</td>\n",
       "      <td>-</td>\n",
       "    </tr>\n",
       "    <tr>\n",
       "      <th>4</th>\n",
       "      <td>AGE_MIN</td>\n",
       "      <td>Target audience minimum age</td>\n",
       "      <td>Number</td>\n",
       "      <td>-</td>\n",
       "    </tr>\n",
       "    <tr>\n",
       "      <th>5</th>\n",
       "      <td>AGE_DIFF</td>\n",
       "      <td>Target audience age difference</td>\n",
       "      <td>Number</td>\n",
       "      <td>(Target audience maximum age) - (Target audience minimum age)</td>\n",
       "    </tr>\n",
       "    <tr>\n",
       "      <th>6</th>\n",
       "      <td>SEX</td>\n",
       "      <td>Sex</td>\n",
       "      <td>Text</td>\n",
       "      <td>W - woman, M - man, P - all</td>\n",
       "    </tr>\n",
       "    <tr>\n",
       "      <th>7</th>\n",
       "      <td>INCOME</td>\n",
       "      <td>Income group</td>\n",
       "      <td>Binary</td>\n",
       "      <td>0 - without income group, 1 - mid+</td>\n",
       "    </tr>\n",
       "    <tr>\n",
       "      <th>8</th>\n",
       "      <td>UNWEIGHTED_REACH</td>\n",
       "      <td>Sample size</td>\n",
       "      <td>Number</td>\n",
       "      <td>Sample size in TNS panel</td>\n",
       "    </tr>\n",
       "    <tr>\n",
       "      <th>9</th>\n",
       "      <td>COMPOSITION</td>\n",
       "      <td>Composition</td>\n",
       "      <td>Number</td>\n",
       "      <td>-</td>\n",
       "    </tr>\n",
       "  </tbody>\n",
       "</table>\n",
       "</div>"
      ],
      "text/plain": [
       "           Variable                           Value  Format   \n",
       "0        TOUCHPOINT                  DISPLAY/IVIDEO    Text  \\\n",
       "1             MONTH                          Period    Date   \n",
       "2              SITE                       Site name    Text   \n",
       "3       IMPRESSIONS                     Impressions  Number   \n",
       "4           AGE_MIN     Target audience minimum age  Number   \n",
       "5          AGE_DIFF  Target audience age difference  Number   \n",
       "6               SEX                             Sex    Text   \n",
       "7            INCOME                    Income group  Binary   \n",
       "8  UNWEIGHTED_REACH                     Sample size  Number   \n",
       "9       COMPOSITION                     Composition  Number   \n",
       "\n",
       "                                                         Comment  \n",
       "0                                                              -  \n",
       "1                                                     dd.mm.yyyy  \n",
       "2                                                              -  \n",
       "3                                                              -  \n",
       "4                                                              -  \n",
       "5  (Target audience maximum age) - (Target audience minimum age)  \n",
       "6                                    W - woman, M - man, P - all  \n",
       "7                             0 - without income group, 1 - mid+  \n",
       "8                                       Sample size in TNS panel  \n",
       "9                                                              -  "
      ]
     },
     "execution_count": 21,
     "metadata": {},
     "output_type": "execute_result"
    }
   ],
   "source": [
    "pd.set_option('display.max_colwidth', None)\n",
    "dic = pd.read_csv('https://raw.githubusercontent.com/emolodniak/jupyter/main/randomforest/dictionary.csv')\n",
    "dic"
   ]
  },
  {
   "attachments": {},
   "cell_type": "markdown",
   "metadata": {},
   "source": [
    "#### Random Forest"
   ]
  },
  {
   "cell_type": "code",
   "execution_count": 19,
   "metadata": {},
   "outputs": [
    {
     "data": {
      "text/plain": [
       "(1783, 8)"
      ]
     },
     "execution_count": 19,
     "metadata": {},
     "output_type": "execute_result"
    }
   ],
   "source": [
    "# X = df[df.SITE.isin(['GPMD', 'IMHO', 'STS'])]\n",
    "X = df.drop(columns='COMPOSITION')\n",
    "X.shape"
   ]
  },
  {
   "cell_type": "code",
   "execution_count": 20,
   "metadata": {},
   "outputs": [
    {
     "data": {
      "text/html": [
       "<div>\n",
       "<style scoped>\n",
       "    .dataframe tbody tr th:only-of-type {\n",
       "        vertical-align: middle;\n",
       "    }\n",
       "\n",
       "    .dataframe tbody tr th {\n",
       "        vertical-align: top;\n",
       "    }\n",
       "\n",
       "    .dataframe thead th {\n",
       "        text-align: right;\n",
       "    }\n",
       "</style>\n",
       "<table border=\"1\" class=\"dataframe\">\n",
       "  <thead>\n",
       "    <tr style=\"text-align: right;\">\n",
       "      <th></th>\n",
       "      <th>TOUCHPOINT</th>\n",
       "      <th>SITE</th>\n",
       "      <th>IMPRESSIONS</th>\n",
       "      <th>AGE_MIN</th>\n",
       "      <th>AGE_DIFF</th>\n",
       "      <th>SEX</th>\n",
       "      <th>INCOME</th>\n",
       "      <th>UNWEIGHTED_REACH</th>\n",
       "    </tr>\n",
       "  </thead>\n",
       "  <tbody>\n",
       "    <tr>\n",
       "      <th>0</th>\n",
       "      <td>DISPLAY</td>\n",
       "      <td>VK</td>\n",
       "      <td>10095780</td>\n",
       "      <td>16</td>\n",
       "      <td>28</td>\n",
       "      <td>W</td>\n",
       "      <td>1</td>\n",
       "      <td>435</td>\n",
       "    </tr>\n",
       "    <tr>\n",
       "      <th>1</th>\n",
       "      <td>DISPLAY</td>\n",
       "      <td>MAILPOST</td>\n",
       "      <td>124038798</td>\n",
       "      <td>25</td>\n",
       "      <td>30</td>\n",
       "      <td>P</td>\n",
       "      <td>1</td>\n",
       "      <td>3495</td>\n",
       "    </tr>\n",
       "    <tr>\n",
       "      <th>2</th>\n",
       "      <td>IVIDEO</td>\n",
       "      <td>IMHO</td>\n",
       "      <td>1549885</td>\n",
       "      <td>20</td>\n",
       "      <td>34</td>\n",
       "      <td>W</td>\n",
       "      <td>1</td>\n",
       "      <td>89</td>\n",
       "    </tr>\n",
       "    <tr>\n",
       "      <th>3</th>\n",
       "      <td>DISPLAY</td>\n",
       "      <td>OK</td>\n",
       "      <td>22885630</td>\n",
       "      <td>20</td>\n",
       "      <td>15</td>\n",
       "      <td>W</td>\n",
       "      <td>1</td>\n",
       "      <td>367</td>\n",
       "    </tr>\n",
       "    <tr>\n",
       "      <th>4</th>\n",
       "      <td>IVIDEO</td>\n",
       "      <td>GPMD</td>\n",
       "      <td>781124</td>\n",
       "      <td>16</td>\n",
       "      <td>19</td>\n",
       "      <td>W</td>\n",
       "      <td>0</td>\n",
       "      <td>91</td>\n",
       "    </tr>\n",
       "  </tbody>\n",
       "</table>\n",
       "</div>"
      ],
      "text/plain": [
       "  TOUCHPOINT      SITE  IMPRESSIONS  AGE_MIN  AGE_DIFF SEX  INCOME   \n",
       "0    DISPLAY        VK     10095780       16        28   W       1  \\\n",
       "1    DISPLAY  MAILPOST    124038798       25        30   P       1   \n",
       "2     IVIDEO      IMHO      1549885       20        34   W       1   \n",
       "3    DISPLAY        OK     22885630       20        15   W       1   \n",
       "4     IVIDEO      GPMD       781124       16        19   W       0   \n",
       "\n",
       "   UNWEIGHTED_REACH  \n",
       "0               435  \n",
       "1              3495  \n",
       "2                89  \n",
       "3               367  \n",
       "4                91  "
      ]
     },
     "execution_count": 20,
     "metadata": {},
     "output_type": "execute_result"
    }
   ],
   "source": [
    "#pd.options.mode.chained_assignment = None\n",
    "#X.drop(columns='COMPOSITION', inplace=True)\n",
    "X.head()"
   ]
  },
  {
   "cell_type": "code",
   "execution_count": 21,
   "metadata": {},
   "outputs": [
    {
     "data": {
      "text/html": [
       "<div>\n",
       "<style scoped>\n",
       "    .dataframe tbody tr th:only-of-type {\n",
       "        vertical-align: middle;\n",
       "    }\n",
       "\n",
       "    .dataframe tbody tr th {\n",
       "        vertical-align: top;\n",
       "    }\n",
       "\n",
       "    .dataframe thead th {\n",
       "        text-align: right;\n",
       "    }\n",
       "</style>\n",
       "<table border=\"1\" class=\"dataframe\">\n",
       "  <thead>\n",
       "    <tr style=\"text-align: right;\">\n",
       "      <th></th>\n",
       "      <th>COMPOSITION</th>\n",
       "    </tr>\n",
       "  </thead>\n",
       "  <tbody>\n",
       "    <tr>\n",
       "      <th>0</th>\n",
       "      <td>0.647</td>\n",
       "    </tr>\n",
       "    <tr>\n",
       "      <th>1</th>\n",
       "      <td>0.880</td>\n",
       "    </tr>\n",
       "    <tr>\n",
       "      <th>2</th>\n",
       "      <td>0.597</td>\n",
       "    </tr>\n",
       "    <tr>\n",
       "      <th>3</th>\n",
       "      <td>0.636</td>\n",
       "    </tr>\n",
       "    <tr>\n",
       "      <th>4</th>\n",
       "      <td>0.766</td>\n",
       "    </tr>\n",
       "  </tbody>\n",
       "</table>\n",
       "</div>"
      ],
      "text/plain": [
       "   COMPOSITION\n",
       "0        0.647\n",
       "1        0.880\n",
       "2        0.597\n",
       "3        0.636\n",
       "4        0.766"
      ]
     },
     "execution_count": 21,
     "metadata": {},
     "output_type": "execute_result"
    }
   ],
   "source": [
    "y = df[['COMPOSITION']]\n",
    "y.head()"
   ]
  },
  {
   "cell_type": "code",
   "execution_count": 31,
   "metadata": {},
   "outputs": [
    {
     "name": "stderr",
     "output_type": "stream",
     "text": [
      "/tmp/ipykernel_1072/284815286.py:25: DataConversionWarning: A column-vector y was passed when a 1d array was expected. Please change the shape of y to (n_samples,), for example using ravel().\n",
      "  rf_model.fit(X_train, y_train)\n"
     ]
    },
    {
     "name": "stdout",
     "output_type": "stream",
     "text": [
      "Mean Squared Error: 0.007764805979831929\n"
     ]
    }
   ],
   "source": [
    "# Import the necessary libraries\n",
    "from sklearn.ensemble import RandomForestRegressor\n",
    "from sklearn.model_selection import train_test_split\n",
    "from sklearn.preprocessing import LabelEncoder\n",
    "from sklearn.metrics import mean_squared_error\n",
    "\n",
    "# Load the dataset and separate the features and target variable\n",
    "# Assuming 'X' contains the features and 'y' contains the target variable\n",
    "X = df.drop(columns='COMPOSITION')\n",
    "# Encode categorical variables\n",
    "# Let's assume 'cat_vars' is a list of categorical variable column names\n",
    "cat_vars = ['TOUCHPOINT','SITE','SEX']\n",
    "label_encoders = {}\n",
    "for var in cat_vars:\n",
    "    label_encoders[var] = LabelEncoder()\n",
    "    X[var] = label_encoders[var].fit_transform(X[var])\n",
    "\n",
    "# Split the data into training and testing sets\n",
    "X_train, X_test, y_train, y_test = train_test_split(X, y, test_size=0.2, random_state=42) #, stratify=X[['TOUCHPOINT','SITE','SEX']]\n",
    "\n",
    "# Create a Random Forest regression model\n",
    "rf_model = RandomForestRegressor(n_estimators=100, random_state=42)\n",
    "\n",
    "# Fit the model on the training data\n",
    "rf_model.fit(X_train, y_train)\n",
    "\n",
    "# Predict on the test data\n",
    "y_pred = rf_model.predict(X_test)\n",
    "\n",
    "# Evaluate the model using a metric such as mean squared error\n",
    "mse = mean_squared_error(y_test, y_pred)\n",
    "print(\"Mean Squared Error:\", mse)\n"
   ]
  },
  {
   "cell_type": "code",
   "execution_count": 44,
   "metadata": {},
   "outputs": [
    {
     "data": {
      "image/png": "[encoded data removed]",
      "text/plain": [
       "<Figure size 640x480 with 1 Axes>"
      ]
     },
     "metadata": {},
     "output_type": "display_data"
    }
   ],
   "source": [
    "from sklearn.metrics import PredictionErrorDisplay\n",
    "display = PredictionErrorDisplay(y_true=y_test.COMPOSITION.values, y_pred=y_pred)\n",
    "display.plot()\n",
    "plt.show()\n"
   ]
  },
  {
   "cell_type": "code",
   "execution_count": 45,
   "metadata": {},
   "outputs": [
    {
     "data": {
      "text/plain": [
       "array([0.22473265, 0.13069194, 0.19883721, 0.04433726, 0.18831016,\n",
       "       0.01805042, 0.04504492, 0.14999543])"
      ]
     },
     "execution_count": 45,
     "metadata": {},
     "output_type": "execute_result"
    }
   ],
   "source": [
    "rf_model.feature_importances_"
   ]
  },
  {
   "cell_type": "code",
   "execution_count": 51,
   "metadata": {},
   "outputs": [
    {
     "data": {
      "text/plain": [
       "Index(['TOUCHPOINT', 'SITE', 'IMPRESSIONS', 'AGE_MIN', 'AGE_DIFF', 'SEX',\n",
       "       'INCOME', 'UNWEIGHTED_REACH'],\n",
       "      dtype='object')"
      ]
     },
     "execution_count": 51,
     "metadata": {},
     "output_type": "execute_result"
    }
   ],
   "source": [
    "X.columns"
   ]
  },
  {
   "cell_type": "code",
   "execution_count": 49,
   "metadata": {},
   "outputs": [
    {
     "data": {
      "text/plain": [
       "<Axes: >"
      ]
     },
     "execution_count": 49,
     "metadata": {},
     "output_type": "execute_result"
    },
    {
     "data": {
      "image/png": "[encoded data removed]",
      "text/plain": [
       "<Figure size 640x480 with 1 Axes>"
      ]
     },
     "metadata": {},
     "output_type": "display_data"
    }
   ],
   "source": [
    "feature_names = [f\"feature {i}\" for i in range(X.shape[1])]\n",
    "importances = rf_model.feature_importances_\n",
    "forest_importances = pd.Series(importances, index=feature_names)\n",
    "forest_importances.plot.bar();"
   ]
  },
  {
   "cell_type": "code",
   "execution_count": 47,
   "metadata": {},
   "outputs": [
    {
     "data": {
      "text/plain": [
       "array([0.01862149, 0.02284939, 0.02629502, 0.01113037, 0.02266488,\n",
       "       0.00674221, 0.0109513 , 0.01881383])"
      ]
     },
     "execution_count": 47,
     "metadata": {},
     "output_type": "execute_result"
    }
   ],
   "source": [
    "import numpy as np\n",
    "np.std([tree.feature_importances_ for tree in rf_model.estimators_], axis=0)"
   ]
  },
  {
   "cell_type": "code",
   "execution_count": null,
   "metadata": {},
   "outputs": [],
   "source": []
  },
  {
   "cell_type": "code",
   "execution_count": 24,
   "metadata": {},
   "outputs": [],
   "source": [
    "X_train, X_test, y_train, y_test = train_test_split(X, y, test_size=0.2, random_state=42)"
   ]
  },
  {
   "cell_type": "code",
   "execution_count": 25,
   "metadata": {},
   "outputs": [
    {
     "data": {
      "text/plain": [
       "TOUCHPOINT\n",
       "1    0.537858\n",
       "0    0.462142\n",
       "Name: proportion, dtype: float64"
      ]
     },
     "execution_count": 25,
     "metadata": {},
     "output_type": "execute_result"
    }
   ],
   "source": [
    "X.TOUCHPOINT.value_counts(normalize=True)"
   ]
  },
  {
   "cell_type": "code",
   "execution_count": 26,
   "metadata": {},
   "outputs": [
    {
     "data": {
      "text/plain": [
       "TOUCHPOINT\n",
       "1    0.529453\n",
       "0    0.470547\n",
       "Name: proportion, dtype: float64"
      ]
     },
     "execution_count": 26,
     "metadata": {},
     "output_type": "execute_result"
    }
   ],
   "source": [
    "X_train.TOUCHPOINT.value_counts(normalize=True)"
   ]
  },
  {
   "cell_type": "code",
   "execution_count": 27,
   "metadata": {},
   "outputs": [
    {
     "data": {
      "text/plain": [
       "TOUCHPOINT\n",
       "1    0.571429\n",
       "0    0.428571\n",
       "Name: proportion, dtype: float64"
      ]
     },
     "execution_count": 27,
     "metadata": {},
     "output_type": "execute_result"
    }
   ],
   "source": [
    "X_test.TOUCHPOINT.value_counts(normalize=True)"
   ]
  },
  {
   "cell_type": "code",
   "execution_count": 30,
   "metadata": {},
   "outputs": [
    {
     "ename": "TypeError",
     "evalue": "Series.sort_values() got an unexpected keyword argument 'descending'",
     "output_type": "error",
     "traceback": [
      "\u001b[0;31m---------------------------------------------------------------------------\u001b[0m",
      "\u001b[0;31mTypeError\u001b[0m                                 Traceback (most recent call last)",
      "Cell \u001b[0;32mIn[30], line 1\u001b[0m\n\u001b[0;32m----> 1\u001b[0m X\u001b[39m.\u001b[39;49mSITE\u001b[39m.\u001b[39;49mvalue_counts(normalize\u001b[39m=\u001b[39;49m\u001b[39mTrue\u001b[39;49;00m)\u001b[39m.\u001b[39;49msort_values(descending\u001b[39m=\u001b[39;49m\u001b[39mTrue\u001b[39;49;00m)\n",
      "\u001b[0;31mTypeError\u001b[0m: Series.sort_values() got an unexpected keyword argument 'descending'"
     ]
    }
   ],
   "source": [
    "X.SITE.value_counts(normalize=True).sort_values(descending=True)"
   ]
  },
  {
   "cell_type": "code",
   "execution_count": null,
   "metadata": {},
   "outputs": [],
   "source": []
  },
  {
   "cell_type": "code",
   "execution_count": null,
   "metadata": {},
   "outputs": [],
   "source": []
  },
  {
   "cell_type": "code",
   "execution_count": null,
   "metadata": {},
   "outputs": [],
   "source": []
  },
  {
   "cell_type": "code",
   "execution_count": null,
   "metadata": {},
   "outputs": [],
   "source": []
  }
 ],
 "metadata": {
  "kernelspec": {
   "display_name": "Python 3 (ipykernel)",
   "language": "python",
   "name": "python3"
  },
  "language_info": {
   "codemirror_mode": {
    "name": "ipython",
    "version": 3
   },
   "file_extension": ".py",
   "mimetype": "text/x-python",
   "name": "python",
   "nbconvert_exporter": "python",
   "pygments_lexer": "ipython3",
   "version": "3.10.4"
  },
  "orig_nbformat": 4
 },
 "nbformat": 4,
 "nbformat_minor": 2
}
