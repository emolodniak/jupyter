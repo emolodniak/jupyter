{
 "cells": [
  {
   "attachments": {},
   "cell_type": "markdown",
   "metadata": {},
   "source": [
    "### European wholesale electricity price data\n",
    "https://ember-climate.org/data-catalogue/european-wholesale-electricity-price-data/"
   ]
  },
  {
   "cell_type": "code",
   "execution_count": 1,
   "metadata": {},
   "outputs": [
    {
     "data": {
      "text/html": [
       "<div>\n",
       "<style scoped>\n",
       "    .dataframe tbody tr th:only-of-type {\n",
       "        vertical-align: middle;\n",
       "    }\n",
       "\n",
       "    .dataframe tbody tr th {\n",
       "        vertical-align: top;\n",
       "    }\n",
       "\n",
       "    .dataframe thead th {\n",
       "        text-align: right;\n",
       "    }\n",
       "</style>\n",
       "<table border=\"1\" class=\"dataframe\">\n",
       "  <thead>\n",
       "    <tr style=\"text-align: right;\">\n",
       "      <th></th>\n",
       "      <th>2015-01-31</th>\n",
       "      <th>2015-02-28</th>\n",
       "      <th>2015-03-31</th>\n",
       "      <th>2015-04-30</th>\n",
       "      <th>2015-05-31</th>\n",
       "      <th>2015-06-30</th>\n",
       "      <th>2015-07-31</th>\n",
       "      <th>2015-08-31</th>\n",
       "      <th>2015-09-30</th>\n",
       "      <th>2015-10-31</th>\n",
       "      <th>...</th>\n",
       "      <th>2022-07-31</th>\n",
       "      <th>2022-08-31</th>\n",
       "      <th>2022-09-30</th>\n",
       "      <th>2022-10-31</th>\n",
       "      <th>2022-11-30</th>\n",
       "      <th>2022-12-31</th>\n",
       "      <th>2023-01-31</th>\n",
       "      <th>2023-02-28</th>\n",
       "      <th>2023-03-31</th>\n",
       "      <th>2023-04-30</th>\n",
       "    </tr>\n",
       "  </thead>\n",
       "  <tbody>\n",
       "    <tr>\n",
       "      <th>Price</th>\n",
       "      <td>41.95</td>\n",
       "      <td>50.14</td>\n",
       "      <td>43.79</td>\n",
       "      <td>39.52</td>\n",
       "      <td>26.46</td>\n",
       "      <td>32.16</td>\n",
       "      <td>37.91</td>\n",
       "      <td>32.19</td>\n",
       "      <td>37.45</td>\n",
       "      <td>44.96</td>\n",
       "      <td>...</td>\n",
       "      <td>400.95</td>\n",
       "      <td>492.99</td>\n",
       "      <td>393.55</td>\n",
       "      <td>178.89</td>\n",
       "      <td>192.16</td>\n",
       "      <td>270.49</td>\n",
       "      <td>132.28</td>\n",
       "      <td>148.78</td>\n",
       "      <td>111.81</td>\n",
       "      <td>106.45</td>\n",
       "    </tr>\n",
       "  </tbody>\n",
       "</table>\n",
       "<p>1 rows × 100 columns</p>\n",
       "</div>"
      ],
      "text/plain": [
       "       2015-01-31  2015-02-28  2015-03-31  2015-04-30  2015-05-31  2015-06-30   \n",
       "Price       41.95       50.14       43.79       39.52       26.46       32.16  \\\n",
       "\n",
       "       2015-07-31  2015-08-31  2015-09-30  2015-10-31  ...  2022-07-31   \n",
       "Price       37.91       32.19       37.45       44.96  ...      400.95  \\\n",
       "\n",
       "       2022-08-31  2022-09-30  2022-10-31  2022-11-30  2022-12-31  2023-01-31   \n",
       "Price      492.99      393.55      178.89      192.16      270.49      132.28  \\\n",
       "\n",
       "       2023-02-28  2023-03-31  2023-04-30  \n",
       "Price      148.78      111.81      106.45  \n",
       "\n",
       "[1 rows x 100 columns]"
      ]
     },
     "execution_count": 1,
     "metadata": {},
     "output_type": "execute_result"
    }
   ],
   "source": [
    "import warnings\n",
    "warnings.filterwarnings('ignore')\n",
    "import requests, io\n",
    "import pandas as pd\n",
    "url = 'https://ember-climate.org/app/uploads/2022/09/european_wholesale_electricity_price_data_monthly-5.csv'\n",
    "df = pd.read_csv(io.StringIO(requests.get(url).text))\n",
    "df = df[df.Country == 'France'].drop(columns=['Country','ISO3 Code']).rename(columns={'Price (EUR/MWhe)':'Price'}).set_index('Date')\n",
    "df.index = pd.date_range(df.index.min(), periods=len(df), freq=\"M\")\n",
    "df.T"
   ]
  },
  {
   "cell_type": "code",
   "execution_count": null,
   "metadata": {},
   "outputs": [],
   "source": []
  }
 ],
 "metadata": {
  "kernelspec": {
   "display_name": "Python 3 (ipykernel)",
   "language": "python",
   "name": "python3"
  },
  "language_info": {
   "codemirror_mode": {
    "name": "ipython",
    "version": 3
   },
   "file_extension": ".py",
   "mimetype": "text/x-python",
   "name": "python",
   "nbconvert_exporter": "python",
   "pygments_lexer": "ipython3",
   "version": "3.10.4"
  },
  "orig_nbformat": 4
 },
 "nbformat": 4,
 "nbformat_minor": 2
}
