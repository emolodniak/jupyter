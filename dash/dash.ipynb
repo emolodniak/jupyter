{
 "cells": [
  {
   "cell_type": "code",
   "execution_count": 8,
   "metadata": {},
   "outputs": [
    {
     "name": "stdout",
     "output_type": "stream",
     "text": [
      "Dash is running on http://127.0.0.1:8050/\n",
      "\n"
     ]
    },
    {
     "data": {
      "text/html": [
       "\n",
       "        <iframe\n",
       "            width=\"100%\"\n",
       "            height=\"650\"\n",
       "            src=\"http://127.0.0.1:8050/\"\n",
       "            frameborder=\"0\"\n",
       "            allowfullscreen\n",
       "            \n",
       "        ></iframe>\n",
       "        "
      ],
      "text/plain": [
       "<IPython.lib.display.IFrame at 0x7f918e117ac0>"
      ]
     },
     "metadata": {},
     "output_type": "display_data"
    }
   ],
   "source": [
    "import dash\n",
    "from jupyter_dash import JupyterDash\n",
    "from dash import dcc\n",
    "from dash import html\n",
    "from dash.dependencies import Input, Output\n",
    "import plotly.graph_objects as go\n",
    "import statsmodels.api as sm\n",
    "import pandas as pd\n",
    "from datetime import datetime\n",
    "\n",
    "#India China Research 2000-2023 Data ---------------\n",
    "from pandas_datareader import wb\n",
    "data = wb.download(indicator='SP.POP.TOTL', country=['CN', 'IN'], start=1960, end=2022).reset_index()\n",
    "data = data.pivot(index='year', columns='country', values='SP.POP.TOTL')\n",
    "data.index = pd.to_numeric(data.index)\n",
    "\n",
    "app = JupyterDash()\n",
    "\n",
    "app.layout = html.Div([\n",
    "    html.H2('China vs India population forecast 2030'),\n",
    "    html.Br(),\n",
    "    html.I('Model training range', style={'text-align':'right', 'color': 'skyblue'}), \n",
    "    dcc.RangeSlider(min=int(data.index.min()), max=int(data.index.max()), step=1, value=[1980, 2000], id='range-slider', \n",
    "                   marks=None, tooltip={\"placement\": \"bottom\", \"always_visible\": True}), \n",
    "    html.Br(),\n",
    "    html.Hr(),\n",
    "    dcc.Graph(id='plot', config=dict(displayModeBar=False, autosizable=True)),\n",
    "    html.Hr()\n",
    "], style={'width': '100%'})\n",
    "\n",
    "@app.callback(Output('plot', 'figure'), [Input('range-slider', 'value')])\n",
    "def update_figure(value):\n",
    "    df = data[data.index.isin([*range(value[0], value[1]+1)])]\n",
    "    #Model\n",
    "    X = sm.add_constant(df.index)\n",
    "    y = df.China\n",
    "    result = sm.OLS(y, X)\n",
    "    p = [*range(value[1], 2030)]\n",
    "    pred_ols_c = result.fit().predict(sm.add_constant(p))\n",
    "    y = df.India\n",
    "    result = sm.OLS(y, X)\n",
    "    pred_ols_i = result.fit().predict(sm.add_constant(p))\n",
    "    #fig = df.plot(template=\"simple_white\", labels=dict(value='population'))\n",
    "    fig = go.Figure(layout=go.Layout(template='simple_white', xaxis_title='year', yaxis_title='population'))\n",
    "    fig.add_trace(go.Scatter(x=df.index, y=df.China, mode='markers', name='China', marker=dict(color='red')))\n",
    "    fig.add_trace(go.Scatter(x=p, y=pred_ols_c, mode='lines', name='ChinaTrend', line=dict(color='red')))\n",
    "    fig.add_trace(go.Scatter(x=df.index, y=df.India, mode='markers', name='India', marker=dict(color='blue'))) \n",
    "    fig.add_trace(go.Scatter(x=p, y=pred_ols_i, mode='lines', name='IndiaTrend', line=dict(color='blue')))\n",
    "    fig.add_trace(go.Scatter(x=[2023,2023], y=[0,1700000000], mode='lines', name='=2023=', line=dict(color='black',dash='dot')))\n",
    "    return fig\n",
    "    \n",
    "app.run_server(mode='inline', port=8050, debug=True, use_reloader=False)"
   ]
  }
 ],
 "metadata": {
  "kernelspec": {
   "display_name": "Python 3 (ipykernel)",
   "language": "python",
   "name": "python3"
  },
  "language_info": {
   "codemirror_mode": {
    "name": "ipython",
    "version": 3
   },
   "file_extension": ".py",
   "mimetype": "text/x-python",
   "name": "python",
   "nbconvert_exporter": "python",
   "pygments_lexer": "ipython3",
   "version": "3.10.4"
  },
  "orig_nbformat": 4
 },
 "nbformat": 4,
 "nbformat_minor": 2
}
